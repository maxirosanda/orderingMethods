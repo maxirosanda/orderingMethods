{
 "cells": [
  {
   "cell_type": "code",
   "execution_count": 4,
   "metadata": {},
   "outputs": [
    {
     "name": "stdout",
     "output_type": "stream",
     "text": [
      "Arreglo ordenado por seleccion: [0, 1, 2, 3, 4, 5, 6, 7, 8, 9]\n",
      "Cantidad de intercambios: 8\n",
      "Tiempo de ordenamiento: 0.0 segundos\n"
     ]
    }
   ],
   "source": [
    "import time\n",
    "import random\n",
    "\n",
    "# Crear y mezclar los vectores\n",
    "vector_10 = list(range(10))\n",
    "vector_100 = list(range(100))\n",
    "vector_1000 = list(range(1000))\n",
    "vector_10000 = list(range(10000))\n",
    "vector_100000 = list(range(100000))\n",
    "vector_1000000 = list(range(1000000))\n",
    "\n",
    "random.shuffle(vector_10)\n",
    "random.shuffle(vector_100)\n",
    "random.shuffle(vector_1000)\n",
    "random.shuffle(vector_10000)\n",
    "random.shuffle(vector_100000)\n",
    "random.shuffle(vector_1000000)\n",
    "\n",
    "def selection_sort(arr):\n",
    "    n = len(arr)\n",
    "    intercambios = 0  # Reiniciar el contador\n",
    "    start_time = time.time()  # Tiempo de inicio\n",
    "\n",
    "    for i in range(n):\n",
    "        min_idx = i\n",
    "        for j in range(i+1, n):\n",
    "            if arr[j] < arr[min_idx]:\n",
    "                min_idx = j\n",
    "\n",
    "        # Solo contar como intercambio si el elemento actual no es el mínimo\n",
    "        if i != min_idx:\n",
    "            arr[i], arr[min_idx] = arr[min_idx], arr[i]\n",
    "            intercambios += 1  # Contar el intercambio\n",
    "\n",
    "    end_time = time.time()  # Tiempo de finalización\n",
    "    tiempo_total = end_time - start_time  # Calcular tiempo total\n",
    "    return intercambios, tiempo_total\n",
    "\n",
    "# Ordenar el arreglo\n",
    "intercambios, tiempo = selection_sort(vector_10)\n",
    "print(\"Arreglo ordenado por seleccion:\", vector_10)\n",
    "print(\"Cantidad de intercambios:\", intercambios)\n",
    "print(\"Tiempo de ordenamiento:\", tiempo, \"segundos\")\n"
   ]
  }
 ],
 "metadata": {
  "kernelspec": {
   "display_name": "Python 3",
   "language": "python",
   "name": "python3"
  },
  "language_info": {
   "codemirror_mode": {
    "name": "ipython",
    "version": 3
   },
   "file_extension": ".py",
   "mimetype": "text/x-python",
   "name": "python",
   "nbconvert_exporter": "python",
   "pygments_lexer": "ipython3",
   "version": "3.12.2"
  }
 },
 "nbformat": 4,
 "nbformat_minor": 2
}
