{
 "cells": [
  {
   "cell_type": "code",
   "execution_count": 7,
   "metadata": {},
   "outputs": [
    {
     "name": "stdout",
     "output_type": "stream",
     "text": [
      "Arreglo ordenado por burbuja Optimizado: [0, 1, 2, 3, 4, 5, 6, 7, 8, 9]\n",
      "Cantidad de intercambios: 26\n",
      "Tiempo de ordenamiento: 0.0 segundos\n"
     ]
    }
   ],
   "source": [
    "import time\n",
    "import random\n",
    "\n",
    "vector_10 = list(range(10))\n",
    "vector_100 = list(range(100))\n",
    "vector_1000 = list(range(1000))\n",
    "vector_10000 = list(range(10000))\n",
    "vector_100000 = list(range(100000))\n",
    "vector_1000000 = list(range(1000000))\n",
    "\n",
    "# Mezclar (desordenar) los vectores\n",
    "random.shuffle(vector_10)\n",
    "random.shuffle(vector_100)\n",
    "random.shuffle(vector_1000)\n",
    "random.shuffle(vector_10000)\n",
    "random.shuffle(vector_100000)\n",
    "random.shuffle(vector_1000000)\n",
    "\n",
    "def bubble_sort_opt(arr):\n",
    "\n",
    "    n = len(arr)\n",
    "    intercambios = 0  # Contador de intercambios\n",
    "    start_time = time.time()  # Tiempo de inicio\n",
    "\n",
    "    for i in range(n):\n",
    "        for j in range(0, n-i-1):\n",
    "            if arr[j] > arr[j+1]:\n",
    "                arr[j], arr[j+1] = arr[j+1], arr[j]\n",
    "                intercambios += 1  # Incrementar contador de intercambios\n",
    "    end_time = time.time()  # Tiempo de finalización\n",
    "    tiempo_total = end_time - start_time  # Calcular tiempo total\n",
    "\n",
    "    return intercambios, tiempo_total\n",
    "\n",
    "# Ordenar el arreglo\n",
    "intercambios, tiempo = bubble_sort_opt(vector_10)\n",
    "\n",
    "print(\"Arreglo ordenado por burbuja Optimizado:\", vector_10)\n",
    "print(\"Cantidad de intercambios:\", intercambios)\n",
    "print(\"Tiempo de ordenamiento:\", tiempo, \"segundos\")"
   ]
  }
 ],
 "metadata": {
  "kernelspec": {
   "display_name": "Python 3",
   "language": "python",
   "name": "python3"
  },
  "language_info": {
   "codemirror_mode": {
    "name": "ipython",
    "version": 3
   },
   "file_extension": ".py",
   "mimetype": "text/x-python",
   "name": "python",
   "nbconvert_exporter": "python",
   "pygments_lexer": "ipython3",
   "version": "3.11.9"
  }
 },
 "nbformat": 4,
 "nbformat_minor": 2
}
