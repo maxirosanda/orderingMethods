{
 "cells": [
  {
   "cell_type": "code",
   "execution_count": 4,
   "metadata": {},
   "outputs": [
    {
     "ename": "KeyboardInterrupt",
     "evalue": "",
     "output_type": "error",
     "traceback": [
      "\u001b[1;31m---------------------------------------------------------------------------\u001b[0m",
      "\u001b[1;31mKeyboardInterrupt\u001b[0m                         Traceback (most recent call last)",
      "Cell \u001b[1;32mIn[4], line 40\u001b[0m\n\u001b[0;32m     37\u001b[0m     \u001b[38;5;28;01mreturn\u001b[39;00m intercambios, tiempo_total\n\u001b[0;32m     39\u001b[0m \u001b[38;5;66;03m# Ordenar el arreglo\u001b[39;00m\n\u001b[1;32m---> 40\u001b[0m intercambios, tiempo \u001b[38;5;241m=\u001b[39m \u001b[43minsertion_sort\u001b[49m\u001b[43m(\u001b[49m\u001b[43mvector_100000\u001b[49m\u001b[43m)\u001b[49m\n\u001b[0;32m     42\u001b[0m \u001b[38;5;28mprint\u001b[39m(\u001b[38;5;124m\"\u001b[39m\u001b[38;5;124mArreglo ordenado por inserción:\u001b[39m\u001b[38;5;124m\"\u001b[39m, vector_100000)\n\u001b[0;32m     43\u001b[0m \u001b[38;5;28mprint\u001b[39m(\u001b[38;5;124m\"\u001b[39m\u001b[38;5;124mCantidad de intercambios:\u001b[39m\u001b[38;5;124m\"\u001b[39m, intercambios)\n",
      "Cell \u001b[1;32mIn[4], line 27\u001b[0m, in \u001b[0;36minsertion_sort\u001b[1;34m(arr)\u001b[0m\n\u001b[0;32m     25\u001b[0m key \u001b[38;5;241m=\u001b[39m arr[i]\n\u001b[0;32m     26\u001b[0m j \u001b[38;5;241m=\u001b[39m i \u001b[38;5;241m-\u001b[39m \u001b[38;5;241m1\u001b[39m\n\u001b[1;32m---> 27\u001b[0m \u001b[38;5;28;01mwhile\u001b[39;00m j \u001b[38;5;241m>\u001b[39m\u001b[38;5;241m=\u001b[39m \u001b[38;5;241m0\u001b[39m \u001b[38;5;129;01mand\u001b[39;00m arr[j] \u001b[38;5;241m>\u001b[39m key:\n\u001b[0;32m     28\u001b[0m     arr[j \u001b[38;5;241m+\u001b[39m \u001b[38;5;241m1\u001b[39m] \u001b[38;5;241m=\u001b[39m arr[j]\n\u001b[0;32m     29\u001b[0m     j \u001b[38;5;241m-\u001b[39m\u001b[38;5;241m=\u001b[39m \u001b[38;5;241m1\u001b[39m\n",
      "\u001b[1;31mKeyboardInterrupt\u001b[0m: "
     ]
    }
   ],
   "source": [
    "import time\n",
    "import random\n",
    "\n",
    "vector_10 = list(range(10))\n",
    "vector_100 = list(range(100))\n",
    "vector_1000 = list(range(1000))\n",
    "vector_10000 = list(range(10000))\n",
    "vector_100000 = list(range(100000))\n",
    "vector_1000000 = list(range(1000000))\n",
    "\n",
    "# Mezclar (desordenar) los vectores\n",
    "random.shuffle(vector_10)\n",
    "random.shuffle(vector_100)\n",
    "random.shuffle(vector_1000)\n",
    "random.shuffle(vector_10000)\n",
    "random.shuffle(vector_100000)\n",
    "random.shuffle(vector_1000000)\n",
    "\n",
    "def insertion_sort(arr):\n",
    "    n = len(arr)\n",
    "    intercambios = 0  # Contador de intercambios\n",
    "    start_time = time.time()  # Tiempo de inicio\n",
    "\n",
    "    for i in range(1, n):\n",
    "        key = arr[i]\n",
    "        j = i - 1\n",
    "        while j >= 0 and arr[j] > key:\n",
    "            arr[j + 1] = arr[j]\n",
    "            j -= 1\n",
    "            intercambios += 1  # Contar cada movimiento (intercambio)\n",
    "        arr[j + 1] = key\n",
    "        if j + 1 != i:  # Si 'key' se mueve, es un intercambio\n",
    "            intercambios += 1\n",
    "    end_time = time.time()  # Tiempo de finalización\n",
    "    tiempo_total = end_time - start_time  # Calcular tiempo total\n",
    "\n",
    "    return intercambios, tiempo_total\n",
    "\n",
    "# Ordenar el arreglo\n",
    "intercambios, tiempo = insertion_sort(vector_100000)\n",
    "\n",
    "print(\"Arreglo ordenado por inserción:\", vector_100000)\n",
    "print(\"Cantidad de intercambios:\", intercambios)\n",
    "print(\"Tiempo de ordenamiento:\", tiempo, \"segundos\")"
   ]
  }
 ],
 "metadata": {
  "kernelspec": {
   "display_name": "Python 3",
   "language": "python",
   "name": "python3"
  },
  "language_info": {
   "codemirror_mode": {
    "name": "ipython",
    "version": 3
   },
   "file_extension": ".py",
   "mimetype": "text/x-python",
   "name": "python",
   "nbconvert_exporter": "python",
   "pygments_lexer": "ipython3",
   "version": "3.12.2"
  }
 },
 "nbformat": 4,
 "nbformat_minor": 2
}
