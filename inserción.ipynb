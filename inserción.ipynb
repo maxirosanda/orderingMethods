{
 "cells": [
  {
   "cell_type": "code",
   "execution_count": 6,
   "metadata": {},
   "outputs": [
    {
     "name": "stdout",
     "output_type": "stream",
     "text": [
      "Arreglo ordenado por inserción: [0, 1, 2, 3, 4, 5, 6, 7, 8, 9]\n",
      "Cantidad de intercambios: 28\n",
      "Tiempo de ordenamiento: 0.0 segundos\n"
     ]
    }
   ],
   "source": [
    "import time\n",
    "import random\n",
    "\n",
    "vector_10 = list(range(10))\n",
    "vector_100 = list(range(100))\n",
    "vector_1000 = list(range(1000))\n",
    "vector_10000 = list(range(10000))\n",
    "vector_100000 = list(range(100000))\n",
    "vector_1000000 = list(range(1000000))\n",
    "\n",
    "# Mezclar (desordenar) los vectores\n",
    "random.shuffle(vector_10)\n",
    "random.shuffle(vector_100)\n",
    "random.shuffle(vector_1000)\n",
    "random.shuffle(vector_10000)\n",
    "random.shuffle(vector_100000)\n",
    "random.shuffle(vector_1000000)\n",
    "\n",
    "def insertion_sort(arr):\n",
    "    n = len(arr)\n",
    "    intercambios = 0  # Contador de intercambios\n",
    "    start_time = time.time()  # Tiempo de inicio\n",
    "\n",
    "    for i in range(1, n):\n",
    "        key = arr[i]\n",
    "        j = i - 1\n",
    "        while j >= 0 and arr[j] > key:\n",
    "            arr[j + 1] = arr[j]\n",
    "            j -= 1\n",
    "            intercambios += 1  # Contar cada movimiento (intercambio)\n",
    "        arr[j + 1] = key\n",
    "        if j + 1 != i:  # Si 'key' se mueve, es un intercambio\n",
    "            intercambios += 1\n",
    "    end_time = time.time()  # Tiempo de finalización\n",
    "    tiempo_total = end_time - start_time  # Calcular tiempo total\n",
    "\n",
    "    return intercambios, tiempo_total\n",
    "\n",
    "# Ordenar el arreglo\n",
    "intercambios, tiempo = insertion_sort(vector_10)\n",
    "\n",
    "print(\"Arreglo ordenado por inserción:\", vector_10)\n",
    "print(\"Cantidad de intercambios:\", intercambios)\n",
    "print(\"Tiempo de ordenamiento:\", tiempo, \"segundos\")"
   ]
  }
 ],
 "metadata": {
  "kernelspec": {
   "display_name": "Python 3",
   "language": "python",
   "name": "python3"
  },
  "language_info": {
   "codemirror_mode": {
    "name": "ipython",
    "version": 3
   },
   "file_extension": ".py",
   "mimetype": "text/x-python",
   "name": "python",
   "nbconvert_exporter": "python",
   "pygments_lexer": "ipython3",
   "version": "3.11.9"
  }
 },
 "nbformat": 4,
 "nbformat_minor": 2
}
