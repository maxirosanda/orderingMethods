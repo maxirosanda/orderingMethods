{
  "cells": [
    {
      "cell_type": "code",
      "execution_count": 24,
      "metadata": {
        "colab": {
          "base_uri": "https://localhost:8080/"
        },
        "id": "olwKtmTstChZ",
        "outputId": "bff71ed2-a277-45d2-d683-e60992c1aff0"
      },
      "outputs": [
        {
          "ename": "KeyboardInterrupt",
          "evalue": "",
          "output_type": "error",
          "traceback": [
            "\u001b[1;31m---------------------------------------------------------------------------\u001b[0m",
            "\u001b[1;31mKeyboardInterrupt\u001b[0m                         Traceback (most recent call last)",
            "Cell \u001b[1;32mIn[24], line 36\u001b[0m\n\u001b[0;32m     33\u001b[0m     \u001b[38;5;28;01mreturn\u001b[39;00m intercambios, tiempo_total\n\u001b[0;32m     35\u001b[0m \u001b[38;5;66;03m# Ordenar el arreglo\u001b[39;00m\n\u001b[1;32m---> 36\u001b[0m intercambios, tiempo \u001b[38;5;241m=\u001b[39m \u001b[43mbubble_sort\u001b[49m\u001b[43m(\u001b[49m\u001b[43mvector_100000\u001b[49m\u001b[43m)\u001b[49m\n\u001b[0;32m     38\u001b[0m \u001b[38;5;28mprint\u001b[39m(\u001b[38;5;124m\"\u001b[39m\u001b[38;5;124mArreglo ordenado por burbuja:\u001b[39m\u001b[38;5;124m\"\u001b[39m, vector_100000)\n\u001b[0;32m     39\u001b[0m \u001b[38;5;28mprint\u001b[39m(\u001b[38;5;124m\"\u001b[39m\u001b[38;5;124mCantidad de intercambios:\u001b[39m\u001b[38;5;124m\"\u001b[39m, intercambios)\n",
            "Cell \u001b[1;32mIn[24], line 28\u001b[0m, in \u001b[0;36mbubble_sort\u001b[1;34m(arr)\u001b[0m\n\u001b[0;32m     26\u001b[0m         \u001b[38;5;28;01mif\u001b[39;00m arr[j] \u001b[38;5;241m>\u001b[39m arr[j \u001b[38;5;241m+\u001b[39m \u001b[38;5;241m1\u001b[39m]:\n\u001b[0;32m     27\u001b[0m             arr[j], arr[j \u001b[38;5;241m+\u001b[39m \u001b[38;5;241m1\u001b[39m] \u001b[38;5;241m=\u001b[39m arr[j \u001b[38;5;241m+\u001b[39m \u001b[38;5;241m1\u001b[39m], arr[j]  \u001b[38;5;66;03m# Intercambio\u001b[39;00m\n\u001b[1;32m---> 28\u001b[0m             intercambios \u001b[38;5;241m+\u001b[39m\u001b[38;5;241m=\u001b[39m \u001b[38;5;241m1\u001b[39m  \u001b[38;5;66;03m# Incrementar contador de intercambios\u001b[39;00m\n\u001b[0;32m     30\u001b[0m end_time \u001b[38;5;241m=\u001b[39m time\u001b[38;5;241m.\u001b[39mtime()  \u001b[38;5;66;03m# Tiempo de finalización\u001b[39;00m\n\u001b[0;32m     31\u001b[0m tiempo_total \u001b[38;5;241m=\u001b[39m end_time \u001b[38;5;241m-\u001b[39m start_time  \u001b[38;5;66;03m# Calcular tiempo total\u001b[39;00m\n",
            "\u001b[1;31mKeyboardInterrupt\u001b[0m: "
          ]
        }
      ],
      "source": [
        "import time\n",
        "import random\n",
        "\n",
        "vector_10 = list(range(10))\n",
        "vector_100 = list(range(100))\n",
        "vector_1000 = list(range(1000))\n",
        "vector_10000 = list(range(10000))\n",
        "vector_100000 = list(range(100000))\n",
        "vector_1000000 = list(range(1000000))\n",
        "\n",
        "# Mezclar (desordenar) los vectores\n",
        "random.shuffle(vector_10)\n",
        "random.shuffle(vector_100)\n",
        "random.shuffle(vector_1000)\n",
        "random.shuffle(vector_10000)\n",
        "random.shuffle(vector_100000)\n",
        "random.shuffle(vector_1000000)\n",
        "\n",
        "def bubble_sort(arr):\n",
        "    n = len(arr)\n",
        "    intercambios = 0  # Contador de intercambios\n",
        "    start_time = time.time()  # Tiempo de inicio\n",
        "\n",
        "    for i in range(n):\n",
        "        for j in range(0, n - 1 - i):  # Optimización: evitar comparar elementos ya ordenados\n",
        "            if arr[j] > arr[j + 1]:\n",
        "                arr[j], arr[j + 1] = arr[j + 1], arr[j]  # Intercambio\n",
        "                intercambios += 1  # Incrementar contador de intercambios\n",
        "\n",
        "    end_time = time.time()  # Tiempo de finalización\n",
        "    tiempo_total = end_time - start_time  # Calcular tiempo total\n",
        "\n",
        "    return intercambios, tiempo_total\n",
        "\n",
        "# Ordenar el arreglo\n",
        "intercambios, tiempo = bubble_sort(vector_100000)\n",
        "\n",
        "print(\"Arreglo ordenado por burbuja:\", vector_100000)\n",
        "print(\"Cantidad de intercambios:\", intercambios)\n",
        "print(\"Tiempo de ordenamiento:\", tiempo, \"segundos\")"
      ]
    },
    {
      "cell_type": "code",
      "execution_count": null,
      "metadata": {
        "id": "QMW9od_ZtQvw"
      },
      "outputs": [],
      "source": []
    }
  ],
  "metadata": {
    "colab": {
      "provenance": []
    },
    "kernelspec": {
      "display_name": "Python 3",
      "name": "python3"
    },
    "language_info": {
      "codemirror_mode": {
        "name": "ipython",
        "version": 3
      },
      "file_extension": ".py",
      "mimetype": "text/x-python",
      "name": "python",
      "nbconvert_exporter": "python",
      "pygments_lexer": "ipython3",
      "version": "3.12.2"
    }
  },
  "nbformat": 4,
  "nbformat_minor": 0
}
